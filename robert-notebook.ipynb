{
 "cells": [
  {
   "cell_type": "code",
   "execution_count": 2,
   "id": "9be37110-5e33-4527-89ee-a8970900336a",
   "metadata": {},
   "outputs": [],
   "source": [
    "from pathlib import Path\n",
    "import os\n",
    "import pandas as pd\n",
    "import numpy as np\n",
    "import matplotlib.pyplot as plt\n",
    "import json\n",
    "import spectral\n",
    "import spectral.io.envi as envi\n",
    "\n",
    "from typing import Callable\n",
    "from IPython.display import display\n",
    "\n",
    "\n",
    "np.set_printoptions(linewidth=800)\n",
    "\n",
    "pd.set_option('display.max_rows', 500)\n",
    "pd.set_option('display.max_columns', 500)\n",
    "pd.set_option('display.width', 1000)\n"
   ]
  },
  {
   "cell_type": "code",
   "execution_count": 3,
   "id": "701ed8d0-5318-4f6b-bbab-5d4d860c9753",
   "metadata": {},
   "outputs": [],
   "source": [
    "# oobx_dir = Path('../fruits_dataset')\n",
    "\n",
    "# fruit = 'Mango'\n",
    "# img = 'VIS/day_11_m3/mango_day_11_m3_33_back'\n",
    "\n",
    "# path = oobx_dir / fruit / img if oobx_dir.exists() else None\n",
    "\n",
    "# img_1 = envi.open(f'{path}.hdr', image=f'{path}.bin')\n",
    "# img_1.shape"
   ]
  },
  {
   "cell_type": "code",
   "execution_count": 4,
   "id": "8f627900-bb68-48c6-bb5d-d4327a3113c2",
   "metadata": {},
   "outputs": [],
   "source": [
    "def load_data(main_folder: str, fruit: str) -> pd.DataFrame:\n",
    "    absolute = main_folder\n",
    "\n",
    "    all_folders = os.listdir(absolute)\n",
    "\n",
    "    data = dict(day=[], fruit=[], hdr=[], bin=[])\n",
    "    for folder in all_folders:\n",
    "        data_paths = os.listdir(absolute / folder)\n",
    "        day_label = folder.replace(\"_m3\", \"\")\n",
    "\n",
    "        for path in data_paths:\n",
    "            extension = path.split(\".\")[1]\n",
    "            if extension == \"bin\":\n",
    "                continue\n",
    "            \n",
    "            prefix = absolute / folder\n",
    "            data[\"day\"].append(day_label)\n",
    "            data[\"fruit\"].append(fruit)\n",
    "            data[\"hdr\"].append(prefix / path)\n",
    "            data[\"bin\"].append(prefix / data_paths[data_paths.index(path.replace(\".hdr\", \".bin\"))])\n",
    "\n",
    "    return pd.DataFrame.from_dict(data)\n",
    "\n",
    "\n",
    "def get_image_min_max(img: np.array):\n",
    "    print(f\"Max band value {np.max(img)}, Min band value {np.min(img)}\")\n",
    "    return img\n",
    "\n",
    "\n",
    "def read_image(hdr: str, bin: str, image_transforms: list[Callable] | None = None):\n",
    "    img = envi.open(hdr, image=bin).load()\n",
    "\n",
    "    if image_transforms is not None and len(image_transforms) != 0:\n",
    "        for transform in image_transforms:\n",
    "            img = transform(img)\n",
    "    \n",
    "    return img\n",
    "    "
   ]
  },
  {
   "cell_type": "code",
   "execution_count": 8,
   "id": "94d83abc-eedd-41d6-8fc4-6189df8f411d",
   "metadata": {},
   "outputs": [],
   "source": [
    "oobx_dir = Path('../fruits_dataset')\n",
    "\n",
    "fruit = 'Mango'\n",
    "\n",
    "path = oobx_dir / fruit / 'VIS'\n",
    "\n",
    "anno_path = oobx_dir / 'annotations'\n",
    "val_json = anno_path / 'val_v2.json'"
   ]
  },
  {
   "cell_type": "code",
   "execution_count": 12,
   "id": "449a76d1-e29a-4ded-bdb2-c38635016dec",
   "metadata": {},
   "outputs": [
    {
     "data": {
      "text/html": [
       "<div>\n",
       "<style scoped>\n",
       "    .dataframe tbody tr th:only-of-type {\n",
       "        vertical-align: middle;\n",
       "    }\n",
       "\n",
       "    .dataframe tbody tr th {\n",
       "        vertical-align: top;\n",
       "    }\n",
       "\n",
       "    .dataframe thead th {\n",
       "        text-align: right;\n",
       "    }\n",
       "</style>\n",
       "<table border=\"1\" class=\"dataframe\">\n",
       "  <thead>\n",
       "    <tr style=\"text-align: right;\">\n",
       "      <th></th>\n",
       "      <th>day</th>\n",
       "      <th>fruit</th>\n",
       "      <th>hdr</th>\n",
       "      <th>bin</th>\n",
       "    </tr>\n",
       "  </thead>\n",
       "  <tbody>\n",
       "    <tr>\n",
       "      <th>0</th>\n",
       "      <td>day_10</td>\n",
       "      <td>kaki</td>\n",
       "      <td>../fruits_dataset/Mango/VIS/day_10_m3/mango_da...</td>\n",
       "      <td>../fruits_dataset/Mango/VIS/day_10_m3/mango_da...</td>\n",
       "    </tr>\n",
       "    <tr>\n",
       "      <th>1</th>\n",
       "      <td>day_10</td>\n",
       "      <td>kaki</td>\n",
       "      <td>../fruits_dataset/Mango/VIS/day_10_m3/mango_da...</td>\n",
       "      <td>../fruits_dataset/Mango/VIS/day_10_m3/mango_da...</td>\n",
       "    </tr>\n",
       "    <tr>\n",
       "      <th>2</th>\n",
       "      <td>day_10</td>\n",
       "      <td>kaki</td>\n",
       "      <td>../fruits_dataset/Mango/VIS/day_10_m3/mango_da...</td>\n",
       "      <td>../fruits_dataset/Mango/VIS/day_10_m3/mango_da...</td>\n",
       "    </tr>\n",
       "    <tr>\n",
       "      <th>3</th>\n",
       "      <td>day_10</td>\n",
       "      <td>kaki</td>\n",
       "      <td>../fruits_dataset/Mango/VIS/day_10_m3/mango_da...</td>\n",
       "      <td>../fruits_dataset/Mango/VIS/day_10_m3/mango_da...</td>\n",
       "    </tr>\n",
       "    <tr>\n",
       "      <th>4</th>\n",
       "      <td>day_10</td>\n",
       "      <td>kaki</td>\n",
       "      <td>../fruits_dataset/Mango/VIS/day_10_m3/mango_da...</td>\n",
       "      <td>../fruits_dataset/Mango/VIS/day_10_m3/mango_da...</td>\n",
       "    </tr>\n",
       "  </tbody>\n",
       "</table>\n",
       "</div>"
      ],
      "text/plain": [
       "      day fruit                                                hdr                                                bin\n",
       "0  day_10  kaki  ../fruits_dataset/Mango/VIS/day_10_m3/mango_da...  ../fruits_dataset/Mango/VIS/day_10_m3/mango_da...\n",
       "1  day_10  kaki  ../fruits_dataset/Mango/VIS/day_10_m3/mango_da...  ../fruits_dataset/Mango/VIS/day_10_m3/mango_da...\n",
       "2  day_10  kaki  ../fruits_dataset/Mango/VIS/day_10_m3/mango_da...  ../fruits_dataset/Mango/VIS/day_10_m3/mango_da...\n",
       "3  day_10  kaki  ../fruits_dataset/Mango/VIS/day_10_m3/mango_da...  ../fruits_dataset/Mango/VIS/day_10_m3/mango_da...\n",
       "4  day_10  kaki  ../fruits_dataset/Mango/VIS/day_10_m3/mango_da...  ../fruits_dataset/Mango/VIS/day_10_m3/mango_da..."
      ]
     },
     "execution_count": 12,
     "metadata": {},
     "output_type": "execute_result"
    }
   ],
   "source": [
    "kaki = load_data(path, \"kaki\")\n",
    "kaki.head()"
   ]
  },
  {
   "cell_type": "code",
   "execution_count": 13,
   "id": "45981245-8fe5-4292-b114-046351c064ff",
   "metadata": {},
   "outputs": [
    {
     "data": {
      "text/html": [
       "<div>\n",
       "<style scoped>\n",
       "    .dataframe tbody tr th:only-of-type {\n",
       "        vertical-align: middle;\n",
       "    }\n",
       "\n",
       "    .dataframe tbody tr th {\n",
       "        vertical-align: top;\n",
       "    }\n",
       "\n",
       "    .dataframe thead th {\n",
       "        text-align: right;\n",
       "    }\n",
       "</style>\n",
       "<table border=\"1\" class=\"dataframe\">\n",
       "  <thead>\n",
       "    <tr style=\"text-align: right;\">\n",
       "      <th></th>\n",
       "      <th>day</th>\n",
       "      <th>fruit</th>\n",
       "      <th>hdr</th>\n",
       "      <th>bin</th>\n",
       "    </tr>\n",
       "  </thead>\n",
       "  <tbody>\n",
       "    <tr>\n",
       "      <th>0</th>\n",
       "      <td>day_10</td>\n",
       "      <td>mango</td>\n",
       "      <td>../fruits_dataset/Mango/VIS/day_10_m3/mango_da...</td>\n",
       "      <td>../fruits_dataset/Mango/VIS/day_10_m3/mango_da...</td>\n",
       "    </tr>\n",
       "    <tr>\n",
       "      <th>1</th>\n",
       "      <td>day_10</td>\n",
       "      <td>mango</td>\n",
       "      <td>../fruits_dataset/Mango/VIS/day_10_m3/mango_da...</td>\n",
       "      <td>../fruits_dataset/Mango/VIS/day_10_m3/mango_da...</td>\n",
       "    </tr>\n",
       "    <tr>\n",
       "      <th>2</th>\n",
       "      <td>day_10</td>\n",
       "      <td>mango</td>\n",
       "      <td>../fruits_dataset/Mango/VIS/day_10_m3/mango_da...</td>\n",
       "      <td>../fruits_dataset/Mango/VIS/day_10_m3/mango_da...</td>\n",
       "    </tr>\n",
       "    <tr>\n",
       "      <th>3</th>\n",
       "      <td>day_10</td>\n",
       "      <td>mango</td>\n",
       "      <td>../fruits_dataset/Mango/VIS/day_10_m3/mango_da...</td>\n",
       "      <td>../fruits_dataset/Mango/VIS/day_10_m3/mango_da...</td>\n",
       "    </tr>\n",
       "    <tr>\n",
       "      <th>4</th>\n",
       "      <td>day_10</td>\n",
       "      <td>mango</td>\n",
       "      <td>../fruits_dataset/Mango/VIS/day_10_m3/mango_da...</td>\n",
       "      <td>../fruits_dataset/Mango/VIS/day_10_m3/mango_da...</td>\n",
       "    </tr>\n",
       "  </tbody>\n",
       "</table>\n",
       "</div>"
      ],
      "text/plain": [
       "      day  fruit                                                hdr                                                bin\n",
       "0  day_10  mango  ../fruits_dataset/Mango/VIS/day_10_m3/mango_da...  ../fruits_dataset/Mango/VIS/day_10_m3/mango_da...\n",
       "1  day_10  mango  ../fruits_dataset/Mango/VIS/day_10_m3/mango_da...  ../fruits_dataset/Mango/VIS/day_10_m3/mango_da...\n",
       "2  day_10  mango  ../fruits_dataset/Mango/VIS/day_10_m3/mango_da...  ../fruits_dataset/Mango/VIS/day_10_m3/mango_da...\n",
       "3  day_10  mango  ../fruits_dataset/Mango/VIS/day_10_m3/mango_da...  ../fruits_dataset/Mango/VIS/day_10_m3/mango_da...\n",
       "4  day_10  mango  ../fruits_dataset/Mango/VIS/day_10_m3/mango_da...  ../fruits_dataset/Mango/VIS/day_10_m3/mango_da..."
      ]
     },
     "execution_count": 13,
     "metadata": {},
     "output_type": "execute_result"
    }
   ],
   "source": [
    "paths = load_data(path, 'mango')\n",
    "df = pd.DataFrame.from_dict(paths)\n",
    "df.head()"
   ]
  },
  {
   "cell_type": "code",
   "execution_count": 14,
   "id": "6e48bd95-9ece-45ac-9ce0-39e4d459b0b5",
   "metadata": {},
   "outputs": [
    {
     "name": "stdout",
     "output_type": "stream",
     "text": [
      "Max band value 0.8948286771774292, Min band value -0.1301896870136261\n"
     ]
    }
   ],
   "source": [
    "img = read_image(df.iloc[5].hdr, df.iloc[5].bin, [get_image_min_max])"
   ]
  },
  {
   "cell_type": "code",
   "execution_count": 15,
   "id": "331fce24-632d-4dad-ab5a-a156a4683366",
   "metadata": {},
   "outputs": [
    {
     "name": "stderr",
     "output_type": "stream",
     "text": [
      "/home/oobx/Pulpit/PROJEKTY/SIiUM/env/lib/python3.11/site-packages/spectral/graphics/spypylab.py:796: UserWarning: Failed to create RectangleSelector object. Interactive pixel class labeling will be unavailable.\n",
      "  warnings.warn(msg)\n"
     ]
    },
    {
     "data": {
      "text/plain": [
       "ImageView object:\n",
       "  Display bands       :  [0, 100, 223]\n",
       "  Interpolation       :  <default>\n",
       "  RGB data limits     :\n",
       "    R: [-0.10148614645004272, 0.39505478739738464]\n",
       "    G: [-0.002846541814506054, 0.09734891355037689]\n",
       "    B: [-0.014835581183433533, 0.6780052781105042]"
      ]
     },
     "execution_count": 15,
     "metadata": {},
     "output_type": "execute_result"
    },
    {
     "data": {
      "image/png": "[encoded data removed]",
      "text/plain": [
       "<Figure size 640x480 with 1 Axes>"
      ]
     },
     "metadata": {},
     "output_type": "display_data"
    }
   ],
   "source": [
    "spectral.imshow(img[:, :], bands=[0, 100, 223])"
   ]
  },
  {
   "cell_type": "code",
   "execution_count": 16,
   "id": "ff8a654a-b709-4745-a376-fa7bb248ca4c",
   "metadata": {},
   "outputs": [
    {
     "data": {
      "text/plain": [
       "ImageView object:\n",
       "  Display bands       :  [0, 112, 223]\n",
       "  Interpolation       :  <default>\n",
       "  RGB data limits     :\n",
       "    R: [0.061935026198625565, 0.33606481552124023]\n",
       "    G: [0.10812787711620331, 0.17910465598106384]\n",
       "    B: [0.5040745139122009, 0.6722214221954346]"
      ]
     },
     "execution_count": 16,
     "metadata": {},
     "output_type": "execute_result"
    },
    {
     "data": {
      "image/png": "[encoded data removed]",
      "text/plain": [
       "<Figure size 640x480 with 1 Axes>"
      ]
     },
     "metadata": {},
     "output_type": "display_data"
    }
   ],
   "source": [
    "rgb_bands = [0, 112, 223]\n",
    "spectral.imshow(img[30:45, 30:45], bands=rgb_bands)"
   ]
  },
  {
   "cell_type": "code",
   "execution_count": 17,
   "id": "51c72e5c-8b33-46bf-9c33-1eafdd0d5144",
   "metadata": {},
   "outputs": [
    {
     "data": {
      "text/plain": [
       "ImageView object:\n",
       "  Display bands       :  [0]\n",
       "  Interpolation       :  <default>\n",
       "  RGB data limits     :\n",
       "    R: [-0.017052169889211655, 0.8846620917320251]\n",
       "    G: [-0.017052169889211655, 0.8846620917320251]\n",
       "    B: [-0.017052169889211655, 0.8846620917320251]"
      ]
     },
     "execution_count": 17,
     "metadata": {},
     "output_type": "execute_result"
    },
    {
     "data": {
      "image/png": "[encoded data removed]",
      "text/plain": [
       "<Figure size 640x480 with 1 Axes>"
      ]
     },
     "metadata": {},
     "output_type": "display_data"
    }
   ],
   "source": [
    "single_band = img[:, :, 150]\n",
    "spectral.imshow(single_band)"
   ]
  },
  {
   "cell_type": "code",
   "execution_count": 48,
   "id": "42f1408a-47e0-4e3d-82bc-4c1482be0770",
   "metadata": {},
   "outputs": [
    {
     "data": {
      "image/png": "[encoded data removed]",
      "text/plain": [
       "<Figure size 640x480 with 1 Axes>"
      ]
     },
     "metadata": {},
     "output_type": "display_data"
    }
   ],
   "source": [
    "plt.plot(img[10, 10])\n",
    "plt.show()"
   ]
  },
  {
   "cell_type": "code",
   "execution_count": 12,
   "id": "ad1a7158-b466-48b5-bf96-f1bdcb900036",
   "metadata": {},
   "outputs": [
    {
     "data": {
      "image/png": "[encoded data removed]",
      "text/plain": [
       "<Figure size 640x480 with 1 Axes>"
      ]
     },
     "metadata": {},
     "output_type": "display_data"
    }
   ],
   "source": [
    "plt.plot(img[10, 11])\n",
    "plt.show()"
   ]
  },
  {
   "cell_type": "code",
   "execution_count": 22,
   "id": "92fcc7a8-8cee-4abb-b79f-7bcd54b535ec",
   "metadata": {},
   "outputs": [],
   "source": [
    "data = json.loads(val_json.read_text())\n",
    "df = pd.json_normalize(data)"
   ]
  },
  {
   "cell_type": "code",
   "execution_count": 23,
   "id": "57282ea3-37c2-4de9-9181-4bc2c312aa03",
   "metadata": {},
   "outputs": [
    {
     "name": "stdout",
     "output_type": "stream",
     "text": [
      "cameras\n",
      "days\n",
      "records\n",
      "annotations\n",
      "info.createdAt\n"
     ]
    }
   ],
   "source": [
    "for item in df:\n",
    "    print(item)"
   ]
  },
  {
   "cell_type": "code",
   "execution_count": 24,
   "id": "24f75e77-fb5c-4615-935d-ab5f5f6f8b79",
   "metadata": {},
   "outputs": [
    {
     "data": {
      "text/html": [
       "<div>\n",
       "<style scoped>\n",
       "    .dataframe tbody tr th:only-of-type {\n",
       "        vertical-align: middle;\n",
       "    }\n",
       "\n",
       "    .dataframe tbody tr th {\n",
       "        vertical-align: top;\n",
       "    }\n",
       "\n",
       "    .dataframe thead th {\n",
       "        text-align: right;\n",
       "    }\n",
       "</style>\n",
       "<table border=\"1\" class=\"dataframe\">\n",
       "  <thead>\n",
       "    <tr style=\"text-align: right;\">\n",
       "      <th></th>\n",
       "      <th>Specim bands to nm</th>\n",
       "      <th>Redeye bands to nm</th>\n",
       "      <th>Corning bands to nm</th>\n",
       "    </tr>\n",
       "  </thead>\n",
       "  <tbody>\n",
       "    <tr>\n",
       "      <th>0</th>\n",
       "      <td>397.66</td>\n",
       "      <td>919.6780</td>\n",
       "      <td>408.034</td>\n",
       "    </tr>\n",
       "    <tr>\n",
       "      <th>1</th>\n",
       "      <td>400.28</td>\n",
       "      <td>922.9758</td>\n",
       "      <td>410.023</td>\n",
       "    </tr>\n",
       "    <tr>\n",
       "      <th>2</th>\n",
       "      <td>402.90</td>\n",
       "      <td>926.2727</td>\n",
       "      <td>412.012</td>\n",
       "    </tr>\n",
       "    <tr>\n",
       "      <th>3</th>\n",
       "      <td>405.52</td>\n",
       "      <td>929.5688</td>\n",
       "      <td>414.001</td>\n",
       "    </tr>\n",
       "    <tr>\n",
       "      <th>4</th>\n",
       "      <td>408.13</td>\n",
       "      <td>932.8640</td>\n",
       "      <td>415.989</td>\n",
       "    </tr>\n",
       "    <tr>\n",
       "      <th>5</th>\n",
       "      <td>410.75</td>\n",
       "      <td>936.1584</td>\n",
       "      <td>417.978</td>\n",
       "    </tr>\n",
       "    <tr>\n",
       "      <th>6</th>\n",
       "      <td>413.37</td>\n",
       "      <td>939.4520</td>\n",
       "      <td>419.967</td>\n",
       "    </tr>\n",
       "    <tr>\n",
       "      <th>7</th>\n",
       "      <td>416.00</td>\n",
       "      <td>942.7448</td>\n",
       "      <td>421.956</td>\n",
       "    </tr>\n",
       "    <tr>\n",
       "      <th>8</th>\n",
       "      <td>418.62</td>\n",
       "      <td>946.0367</td>\n",
       "      <td>423.945</td>\n",
       "    </tr>\n",
       "  </tbody>\n",
       "</table>\n",
       "</div>"
      ],
      "text/plain": [
       "   Specim bands to nm  Redeye bands to nm  Corning bands to nm\n",
       "0              397.66            919.6780              408.034\n",
       "1              400.28            922.9758              410.023\n",
       "2              402.90            926.2727              412.012\n",
       "3              405.52            929.5688              414.001\n",
       "4              408.13            932.8640              415.989\n",
       "5              410.75            936.1584              417.978\n",
       "6              413.37            939.4520              419.967\n",
       "7              416.00            942.7448              421.956\n",
       "8              418.62            946.0367              423.945"
      ]
     },
     "execution_count": 24,
     "metadata": {},
     "output_type": "execute_result"
    }
   ],
   "source": [
    "\n",
    "df_combined = pd.DataFrame({\n",
    "    'Specim bands to nm': dict(enumerate(df.cameras[0][0]['wavelengths'])),\n",
    "    'Redeye bands to nm': dict(enumerate(df.cameras[0][1]['wavelengths'])),\n",
    "    'Corning bands to nm':dict(enumerate(df.cameras[0][2]['wavelengths'])),\n",
    "})\n",
    "\n",
    "df_combined.head(9)"
   ]
  },
  {
   "cell_type": "code",
   "execution_count": 44,
   "id": "a3f742f2-b88b-4de9-9d04-366d0827ae49",
   "metadata": {},
   "outputs": [],
   "source": [
    "def find_closest_wavelenght(wavelength):\n",
    "    water_marks = np.array([970, 1190, 1450, 1940])\n",
    "    tol = 1  # nm\n",
    "    \n",
    "    if pd.isna(wavelength):\n",
    "        return None\n",
    "        \n",
    "    rng = water_marks[np.logical_and(wavelength >= water_marks - tol, wavelength <= water_marks + tol)]\n",
    "    \n",
    "    if len(rng) > 0:\n",
    "        return np.where(water_marks == rng[0])[0].astype('uint8')[0]"
   ]
  },
  {
   "cell_type": "code",
   "execution_count": 45,
   "id": "56efbb14-690b-47e9-b6c2-263add37f0c2",
   "metadata": {},
   "outputs": [],
   "source": [
    "\n",
    "df_combined['Water mark Specim'] = df_combined['Specim bands to nm'].apply(find_closest_wavelenght)\n",
    "df_combined['Water mark Redeye'] = df_combined['Redeye bands to nm'].apply(find_closest_wavelenght)\n",
    "df_combined['Water mark Corning'] = df_combined['Corning bands to nm'].apply(find_closest_wavelenght)\n"
   ]
  },
  {
   "cell_type": "code",
   "execution_count": 46,
   "id": "11af5d37-2fd2-4eb1-8d8b-553b4698c8aa",
   "metadata": {},
   "outputs": [],
   "source": [
    "\n",
    "watermark_specim = df_combined['Water mark Specim'].dropna().index.to_list()\n",
    "watermark_redeye = df_combined['Water mark Redeye'].dropna().index.to_list()\n",
    "watermark_corning = df_combined['Water mark Corning'].dropna().index.to_list()\n"
   ]
  },
  {
   "cell_type": "code",
   "execution_count": 47,
   "id": "cbbfd65e-cb40-4cda-8d00-0c9077620a3a",
   "metadata": {},
   "outputs": [
    {
     "name": "stdout",
     "output_type": "stream",
     "text": [
      "\n",
      "Specim idx: [211]\n",
      "\n",
      "Redeye idx: [15, 83, 164]\n",
      "\n",
      "Corning idx: []\n",
      "\n"
     ]
    }
   ],
   "source": [
    "print(f\"\"\"\n",
    "Specim idx: {watermark_specim}\\n\n",
    "Redeye idx: {watermark_redeye}\\n\n",
    "Corning idx: {watermark_corning}\n",
    "\"\"\")"
   ]
  },
  {
   "cell_type": "code",
   "execution_count": null,
   "id": "367f734c-6189-4815-891f-f2f4ab6f7222",
   "metadata": {},
   "outputs": [],
   "source": []
  },
  {
   "cell_type": "code",
   "execution_count": null,
   "id": "d83a9e31-45eb-4ca7-bebf-5b1a4df71512",
   "metadata": {},
   "outputs": [],
   "source": []
  },
  {
   "cell_type": "code",
   "execution_count": null,
   "id": "ba545bf4-fe04-4d45-9e50-f08da8afa804",
   "metadata": {},
   "outputs": [],
   "source": []
  },
  {
   "cell_type": "code",
   "execution_count": null,
   "id": "9662ee7b-398e-4159-ad55-9bd353373750",
   "metadata": {},
   "outputs": [],
   "source": []
  },
  {
   "cell_type": "code",
   "execution_count": null,
   "id": "933fa587-0695-428b-bc80-436a22ecb96e",
   "metadata": {},
   "outputs": [],
   "source": []
  }
 ],
 "metadata": {
  "kernelspec": {
   "display_name": "Display Name in Jupyter",
   "language": "python",
   "name": "env"
  },
  "language_info": {
   "codemirror_mode": {
    "name": "ipython",
    "version": 3
   },
   "file_extension": ".py",
   "mimetype": "text/x-python",
   "name": "python",
   "nbconvert_exporter": "python",
   "pygments_lexer": "ipython3",
   "version": "3.11.6"
  }
 },
 "nbformat": 4,
 "nbformat_minor": 5
}
