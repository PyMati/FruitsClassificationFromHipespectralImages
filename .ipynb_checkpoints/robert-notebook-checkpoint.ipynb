{
 "cells": [
  {
   "cell_type": "code",
   "execution_count": 1,
   "id": "9be37110-5e33-4527-89ee-a8970900336a",
   "metadata": {},
   "outputs": [],
   "source": [
    "from pathlib import Path\n",
    "import os\n",
    "import pandas as pd\n",
    "import numpy as np\n",
    "import matplotlib.pyplot as plt\n",
    "\n",
    "import spectral\n",
    "import spectral.io.envi as envi\n",
    "\n",
    "from typing import Callable\n",
    "\n",
    "\n",
    "np.set_printoptions(linewidth=800)"
   ]
  },
  {
   "cell_type": "code",
   "execution_count": 2,
   "id": "701ed8d0-5318-4f6b-bbab-5d4d860c9753",
   "metadata": {},
   "outputs": [],
   "source": [
    "# oobx_dir = Path('../fruits_dataset')\n",
    "\n",
    "# fruit = 'Mango'\n",
    "# img = 'VIS/day_11_m3/mango_day_11_m3_33_back'\n",
    "\n",
    "# path = oobx_dir / fruit / img if oobx_dir.exists() else None\n",
    "\n",
    "\n",
    "# print(path)\n",
    "\n",
    "\n",
    "# img_1 = envi.open(f'{path}.hdr', image=f'{path}.bin')\n",
    "# img_1.shape"
   ]
  },
  {
   "cell_type": "code",
   "execution_count": 3,
   "id": "8f627900-bb68-48c6-bb5d-d4327a3113c2",
   "metadata": {},
   "outputs": [],
   "source": [
    "def load_data(main_folder: str, fruit: str) -> pd.DataFrame:\n",
    "    absolute = main_folder\n",
    "\n",
    "    all_folders = os.listdir(absolute)\n",
    "\n",
    "    data = dict(day=[], fruit=[], hdr=[], bin=[])\n",
    "    for folder in all_folders:\n",
    "        data_paths = os.listdir(absolute + \"/\" + folder)\n",
    "        day_label = folder.replace(\"_m3\", \"\")\n",
    "\n",
    "        for path in data_paths:\n",
    "            extension = path.split(\".\")[1]\n",
    "            if extension == \"bin\":\n",
    "                continue\n",
    "            \n",
    "            prefix = absolute + \"/\" + folder + \"/\"\n",
    "            data[\"day\"].append(day_label)\n",
    "            data[\"fruit\"].append(fruit)\n",
    "            data[\"hdr\"].append(prefix + path)\n",
    "            data[\"bin\"].append(prefix + data_paths[data_paths.index(path.replace(\".hdr\", \".bin\"))])\n",
    "\n",
    "    return pd.DataFrame.from_dict(data)\n",
    "\n",
    "\n",
    "def get_image_min_max(img: np.array):\n",
    "    print(f\"Max band value {np.max(img)}, Min band value {np.min(img)}\")\n",
    "    return img\n",
    "\n",
    "\n",
    "def read_image(hdr: str, bin: str, image_transforms: list[Callable] | None = None):\n",
    "    img = envi.open(hdr, image=bin).load()\n",
    "\n",
    "    if image_transforms is not None and len(image_transforms) != 0:\n",
    "        for transform in image_transforms:\n",
    "            img = transform(img)\n",
    "    \n",
    "    return img\n",
    "    "
   ]
  },
  {
   "cell_type": "code",
   "execution_count": 4,
   "id": "94d83abc-eedd-41d6-8fc4-6189df8f411d",
   "metadata": {},
   "outputs": [],
   "source": [
    "# oobx_dir = Path('../fruits_dataset')\n",
    "oobx_dir = Path('../fruits_dataset')\n",
    "\n",
    "fruit = 'Avocado'\n",
    "folder = 'VIS/'\n",
    "\n",
    "# path = oobx_dir / fruit / folder if oobx_dir.exists() else None\n",
    "\n",
    "path = f'{oobx_dir}/Mango/VIS'\n",
    "\n",
    "# path = '/home/r/Desktop/projekty/SIiUM/Analiza obrazów cyfrowych/AoC_projekt/fruits_dataset/Avocado/VIS/'\n",
    "\n",
    "dir_ = f'{oobx_dir}/Mango/VIS'"
   ]
  },
  {
   "cell_type": "code",
   "execution_count": 5,
   "id": "45981245-8fe5-4292-b114-046351c064ff",
   "metadata": {},
   "outputs": [
    {
     "data": {
      "text/html": [
       "<div>\n",
       "<style scoped>\n",
       "    .dataframe tbody tr th:only-of-type {\n",
       "        vertical-align: middle;\n",
       "    }\n",
       "\n",
       "    .dataframe tbody tr th {\n",
       "        vertical-align: top;\n",
       "    }\n",
       "\n",
       "    .dataframe thead th {\n",
       "        text-align: right;\n",
       "    }\n",
       "</style>\n",
       "<table border=\"1\" class=\"dataframe\">\n",
       "  <thead>\n",
       "    <tr style=\"text-align: right;\">\n",
       "      <th></th>\n",
       "      <th>day</th>\n",
       "      <th>fruit</th>\n",
       "      <th>hdr</th>\n",
       "      <th>bin</th>\n",
       "    </tr>\n",
       "  </thead>\n",
       "  <tbody>\n",
       "    <tr>\n",
       "      <th>0</th>\n",
       "      <td>day_8</td>\n",
       "      <td>mango</td>\n",
       "      <td>../fruits_dataset/Mango/VIS/day_8_m3/mango_day...</td>\n",
       "      <td>../fruits_dataset/Mango/VIS/day_8_m3/mango_day...</td>\n",
       "    </tr>\n",
       "    <tr>\n",
       "      <th>1</th>\n",
       "      <td>day_8</td>\n",
       "      <td>mango</td>\n",
       "      <td>../fruits_dataset/Mango/VIS/day_8_m3/mango_day...</td>\n",
       "      <td>../fruits_dataset/Mango/VIS/day_8_m3/mango_day...</td>\n",
       "    </tr>\n",
       "    <tr>\n",
       "      <th>2</th>\n",
       "      <td>day_8</td>\n",
       "      <td>mango</td>\n",
       "      <td>../fruits_dataset/Mango/VIS/day_8_m3/mango_day...</td>\n",
       "      <td>../fruits_dataset/Mango/VIS/day_8_m3/mango_day...</td>\n",
       "    </tr>\n",
       "    <tr>\n",
       "      <th>3</th>\n",
       "      <td>day_8</td>\n",
       "      <td>mango</td>\n",
       "      <td>../fruits_dataset/Mango/VIS/day_8_m3/mango_day...</td>\n",
       "      <td>../fruits_dataset/Mango/VIS/day_8_m3/mango_day...</td>\n",
       "    </tr>\n",
       "    <tr>\n",
       "      <th>4</th>\n",
       "      <td>day_8</td>\n",
       "      <td>mango</td>\n",
       "      <td>../fruits_dataset/Mango/VIS/day_8_m3/mango_day...</td>\n",
       "      <td>../fruits_dataset/Mango/VIS/day_8_m3/mango_day...</td>\n",
       "    </tr>\n",
       "  </tbody>\n",
       "</table>\n",
       "</div>"
      ],
      "text/plain": [
       "     day  fruit                                                hdr  \\\n",
       "0  day_8  mango  ../fruits_dataset/Mango/VIS/day_8_m3/mango_day...   \n",
       "1  day_8  mango  ../fruits_dataset/Mango/VIS/day_8_m3/mango_day...   \n",
       "2  day_8  mango  ../fruits_dataset/Mango/VIS/day_8_m3/mango_day...   \n",
       "3  day_8  mango  ../fruits_dataset/Mango/VIS/day_8_m3/mango_day...   \n",
       "4  day_8  mango  ../fruits_dataset/Mango/VIS/day_8_m3/mango_day...   \n",
       "\n",
       "                                                 bin  \n",
       "0  ../fruits_dataset/Mango/VIS/day_8_m3/mango_day...  \n",
       "1  ../fruits_dataset/Mango/VIS/day_8_m3/mango_day...  \n",
       "2  ../fruits_dataset/Mango/VIS/day_8_m3/mango_day...  \n",
       "3  ../fruits_dataset/Mango/VIS/day_8_m3/mango_day...  \n",
       "4  ../fruits_dataset/Mango/VIS/day_8_m3/mango_day...  "
      ]
     },
     "execution_count": 5,
     "metadata": {},
     "output_type": "execute_result"
    }
   ],
   "source": [
    "mango = load_data(dir_, \"mango\")\n",
    "kaki = load_data(dir_, \"kaki\")\n",
    "mango.head()"
   ]
  },
  {
   "cell_type": "code",
   "execution_count": 6,
   "id": "c5d378e8-f9ff-45c9-9455-73246201a0dc",
   "metadata": {},
   "outputs": [
    {
     "name": "stdout",
     "output_type": "stream",
     "text": [
      "mateusz.ipynb           project_code.ipynb  requirements.txt\n",
      "openimagesnippet.ipynb  README.txt\n"
     ]
    }
   ],
   "source": [
    "ls"
   ]
  },
  {
   "cell_type": "code",
   "execution_count": 7,
   "id": "d2104d2c-555e-423c-b301-22796b8df828",
   "metadata": {},
   "outputs": [
    {
     "data": {
      "text/plain": [
       "'/home/r/Desktop/projekty/SIiUM/Analiza obrazów cyfrowych/AoC_projekt/FruitsClassificationFromHipespectralImages'"
      ]
     },
     "execution_count": 7,
     "metadata": {},
     "output_type": "execute_result"
    }
   ],
   "source": [
    "pwd"
   ]
  },
  {
   "cell_type": "code",
   "execution_count": 8,
   "id": "909ec3ec-a915-4434-9e98-6d6d24150ff4",
   "metadata": {},
   "outputs": [
    {
     "data": {
      "text/plain": [
       "'/home/r/Desktop/projekty/SIiUM/Analiza obrazów cyfrowych/AoC_projekt/FruitsClassificationFromHipespectralImages'"
      ]
     },
     "execution_count": 8,
     "metadata": {},
     "output_type": "execute_result"
    }
   ],
   "source": [
    "os.getcwd()"
   ]
  },
  {
   "cell_type": "code",
   "execution_count": 9,
   "id": "abce4efe-583c-4a9d-8885-bfcad0d03421",
   "metadata": {},
   "outputs": [
    {
     "name": "stdout",
     "output_type": "stream",
     "text": [
      "/home/r/Desktop/projekty/SIiUM/Analiza obrazów cyfrowych/AoC_projekt\n"
     ]
    },
    {
     "name": "stderr",
     "output_type": "stream",
     "text": [
      "/home/r/Desktop/projekty/SIiUM/env/lib/python3.11/site-packages/IPython/core/magics/osm.py:417: UserWarning: This is now an optional IPython functionality, setting dhist requires you to install the `pickleshare` library.\n",
      "  self.shell.db['dhist'] = compress_dhist(dhist)[-100:]\n"
     ]
    }
   ],
   "source": [
    "cd '/home/r/Desktop/projekty/SIiUM/Analiza obrazów cyfrowych/AoC_projekt/'"
   ]
  },
  {
   "cell_type": "code",
   "execution_count": 10,
   "id": "9f6bb536-1525-4de3-bcb5-0303e7ad7d8b",
   "metadata": {},
   "outputs": [
    {
     "data": {
      "text/plain": [
       "'/home/r/Desktop/projekty/SIiUM/Analiza obrazów cyfrowych/AoC_projekt'"
      ]
     },
     "execution_count": 10,
     "metadata": {},
     "output_type": "execute_result"
    }
   ],
   "source": [
    "pwd"
   ]
  },
  {
   "cell_type": "code",
   "execution_count": 11,
   "id": "9bb0e601-da8a-47ff-83cd-7c0ca28d1e7b",
   "metadata": {},
   "outputs": [
    {
     "name": "stdout",
     "output_type": "stream",
     "text": [
      "\u001b[0m\u001b[01;34mFruitsClassificationFromHipespectralImages\u001b[0m/  \u001b[01;34mfruits_dataset\u001b[0m/  README.txt\n"
     ]
    }
   ],
   "source": [
    "ls"
   ]
  },
  {
   "cell_type": "code",
   "execution_count": 12,
   "id": "c6f4c287-f868-492c-afda-7239e57f40cc",
   "metadata": {},
   "outputs": [
    {
     "name": "stdout",
     "output_type": "stream",
     "text": [
      "/home/r/Desktop/projekty/SIiUM/Analiza obrazów cyfrowych/AoC_projekt/FruitsClassificationFromHipespectralImages\n"
     ]
    }
   ],
   "source": [
    "cd FruitsClassificationFromHipespectralImages"
   ]
  },
  {
   "cell_type": "code",
   "execution_count": null,
   "id": "42f1408a-47e0-4e3d-82bc-4c1482be0770",
   "metadata": {},
   "outputs": [],
   "source": []
  }
 ],
 "metadata": {
  "kernelspec": {
   "display_name": "Python 3 (ipykernel)",
   "language": "python",
   "name": "python3"
  },
  "language_info": {
   "codemirror_mode": {
    "name": "ipython",
    "version": 3
   },
   "file_extension": ".py",
   "mimetype": "text/x-python",
   "name": "python",
   "nbconvert_exporter": "python",
   "pygments_lexer": "ipython3",
   "version": "3.11.4"
  }
 },
 "nbformat": 4,
 "nbformat_minor": 5
}
